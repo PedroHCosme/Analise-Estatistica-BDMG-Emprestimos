{
 "cells": [
  {
   "cell_type": "code",
   "execution_count": 1,
   "metadata": {
    "ExecuteTime": {
     "end_time": "2024-05-27T14:23:19.524686Z",
     "start_time": "2024-05-27T14:23:19.386189Z"
    },
    "colab": {
     "base_uri": "https://localhost:8080/"
    },
    "id": "5TRXBq-is4IF",
    "outputId": "83b63afc-843a-4bb3-9121-65eea4dbb42b"
   },
   "outputs": [],
   "source": [
    "import pandas as pd\n",
    "import numpy as np\n",
    "from sklearn import datasets, linear_model\n",
    "import matplotlib.pyplot as plt\n",
    "import seaborn as sns"
   ]
  },
  {
   "cell_type": "code",
   "execution_count": 2,
   "metadata": {
    "ExecuteTime": {
     "end_time": "2024-05-27T14:23:21.355936Z",
     "start_time": "2024-05-27T14:23:20.188998Z"
    },
    "colab": {
     "base_uri": "https://localhost:8080/"
    },
    "id": "C3y6b1TStHbf",
    "outputId": "1c17182f-6252-40de-a505-34e0a13144e5"
   },
   "outputs": [],
   "source": [
    "df = pd.read_excel('DADOS_TCC.xlsx')"
   ]
  },
  {
   "cell_type": "code",
   "execution_count": 3,
   "metadata": {
    "ExecuteTime": {
     "end_time": "2024-05-27T14:23:21.362207Z",
     "start_time": "2024-05-27T14:23:21.357087Z"
    },
    "id": "I4rQlkR1uPcI"
   },
   "outputs": [],
   "source": [
    "df = df.rename(columns={\"Listagem de pré-embarque, Período considerado: 01/01/2002 até 30/06/2023\": \"Cliente\", \"Unnamed: 2\": \"Ano da Operação\",\"Unnamed: 4\": \"Valor Desembolsado em Reais\", \"Unnamed: 1\": \"UF\", \"Unnamed: 5\": \"Setor CNAE\", \"Unnamed: 6\": \"Subsetor CNAE Agrupado\",\n",
    "                   \"Unnamed: 7\": \"Porte do cliente\", \"Unnamed: 8\": \"Natureza\", \"Unnamed: 9\": \"Instituição Financeira Credenciada\", \"Unnamed: 3\": \"Valor da Operação em R$\"})"
   ]
  },
  {
   "cell_type": "code",
   "execution_count": 4,
   "metadata": {
    "ExecuteTime": {
     "end_time": "2024-05-27T14:23:21.375234Z",
     "start_time": "2024-05-27T14:23:21.363453Z"
    },
    "colab": {
     "base_uri": "https://localhost:8080/",
     "height": 649
    },
    "id": "UY2UhGtS15vO",
    "outputId": "f4ae71de-2402-4441-89fd-5518f13c07df"
   },
   "outputs": [],
   "source": [
    "df['Valor Desembolsado em Reais'] = pd.to_numeric(df['Valor Desembolsado em Reais'], errors='coerce')\n",
    "df.dropna(subset=['Valor Desembolsado em Reais'], inplace=True)"
   ]
  },
  {
   "cell_type": "markdown",
   "metadata": {
    "id": "NzFlyV3aRN1j"
   },
   "source": [
    "## Definindo as regiões"
   ]
  },
  {
   "cell_type": "code",
   "execution_count": 5,
   "metadata": {
    "ExecuteTime": {
     "end_time": "2024-05-27T14:23:21.881451Z",
     "start_time": "2024-05-27T14:23:21.874129Z"
    },
    "colab": {
     "base_uri": "https://localhost:8080/"
    },
    "id": "24aaPx5lRRRV",
    "outputId": "f7dca3e9-74ec-4746-cfa2-995c32de4da3"
   },
   "outputs": [],
   "source": [
    "df['UF'] = df['UF'].str.strip()\n",
    "unique_ufs = df['UF'].unique()"
   ]
  },
  {
   "cell_type": "code",
   "execution_count": 6,
   "metadata": {
    "ExecuteTime": {
     "end_time": "2024-05-27T14:23:22.537857Z",
     "start_time": "2024-05-27T14:23:22.532152Z"
    },
    "id": "JyPsdEGBR0Mn"
   },
   "outputs": [],
   "source": [
    "Regiãos = {\n",
    "    'Sudeste': ['SP', 'RJ', 'MG', 'ES'],\n",
    "    'Sul': ['PR', 'SC', 'RS'],\n",
    "    'Centro-Oeste': ['MT', 'MS', 'GO', 'DF', 'TO'],\n",
    "    'Norte': ['AM', 'PA', 'RO', 'RR', 'AC', 'AP'],\n",
    "    'Nordeste': ['BA', 'MA', 'PI', 'CE', 'RN', 'PB', 'PE', 'AL', 'SE']\n",
    "}\n",
    "\n",
    "uf_to_Região = {uf: Região for Região, ufs in Regiãos.items() for uf in ufs}\n",
    "\n",
    "df['Região'] = df['UF'].map(uf_to_Região)\n"
   ]
  },
  {
   "cell_type": "markdown",
   "metadata": {
    "id": "Uvi0eugoRMzi"
   },
   "source": [
    "## Desembolso por UF "
   ]
  },
  {
   "cell_type": "code",
   "execution_count": 7,
   "metadata": {
    "ExecuteTime": {
     "end_time": "2024-05-27T14:23:24.467947Z",
     "start_time": "2024-05-27T14:23:23.893559Z"
    },
    "colab": {
     "base_uri": "https://localhost:8080/",
     "height": 807
    },
    "id": "4NeDu4C3J_r2",
    "outputId": "9cbaec94-3ffd-45c5-9419-b46a1dfa8a18"
   },
   "outputs": [],
   "source": [
    "max_desembolso_per_uf = df.groupby('UF')['Valor Desembolsado em Reais'].max().reset_index()\n",
    "\n",
    "\n",
    "max_values = df.groupby('UF')['Valor Desembolsado em Reais'].max()\n",
    "\n",
    "max_values_sorted = max_values.sort_values(ascending=False)\n",
    "\n",
    "# plt.figure(figsize=(10, 8))\n",
    "# plt.bar(max_values_sorted.index, max_values_sorted.values, color='blue')\n",
    "# plt.xlabel('UF')\n",
    "# plt.ylabel('Valor Desembolsado (R$)')\n",
    "# plt.title('Maior Valor Desembolsado por UF') \n",
    "# plt.xticks(rotation=45)  \n",
    "# plt.tight_layout() \n",
    "# plt.show()"
   ]
  },
  {
   "cell_type": "markdown",
   "metadata": {},
   "source": [
    "## Desembolso por UF sem SP"
   ]
  },
  {
   "cell_type": "code",
   "execution_count": 8,
   "metadata": {
    "ExecuteTime": {
     "end_time": "2024-05-27T14:23:57.359701Z",
     "start_time": "2024-05-27T14:23:56.999012Z"
    }
   },
   "outputs": [],
   "source": [
    "max_desembolso_per_uf = df.groupby('UF')['Valor Desembolsado em Reais'].max().reset_index()\n",
    "\n",
    "\n",
    "max_values = df.groupby('UF')['Valor Desembolsado em Reais'].max()\n",
    "\n",
    "max_values_sorted = max_values.sort_values(ascending=False)\n",
    "\n",
    "max_values_sorted = max_values_sorted.drop('SP')\n",
    "\n",
    "# plt.figure(figsize=(10, 8))\n",
    "# plt.bar(max_values_sorted.index, max_values_sorted.values, color='blue')\n",
    "# plt.xlabel('UF')\n",
    "# plt.ylabel('Valor Desembolsado (R$)')\n",
    "# plt.title('Maior Valor Desembolsado por UF') \n",
    "# plt.xticks(rotation=45)  \n",
    "# plt.tight_layout() \n",
    "# plt.show()"
   ]
  },
  {
   "cell_type": "markdown",
   "metadata": {
    "id": "cP_2LKlAM6eF"
   },
   "source": [
    "## Valor desembolsado por setor CNAE - análise Regional"
   ]
  },
  {
   "cell_type": "code",
   "execution_count": 9,
   "metadata": {
    "ExecuteTime": {
     "end_time": "2024-05-27T14:23:58.574120Z",
     "start_time": "2024-05-27T14:23:58.559273Z"
    },
    "id": "hXlXaIWPNDB9"
   },
   "outputs": [],
   "source": [
    "grouped_data = df.groupby(['Região', 'UF', 'Setor CNAE'])['Valor Desembolsado em Reais'].sum().reset_index()\n",
    "\n",
    "pivot_table = grouped_data.pivot_table(index=['Região', 'UF'], columns='Setor CNAE', values='Valor Desembolsado em Reais', aggfunc='sum')\n"
   ]
  },
  {
   "cell_type": "code",
   "execution_count": 10,
   "metadata": {
    "colab": {
     "base_uri": "https://localhost:8080/",
     "height": 1000
    },
    "id": "rNcVjg4DNNl6",
    "outputId": "e2f504b2-0360-4ab2-9926-7e00b19f95e9"
   },
   "outputs": [],
   "source": [
    "# for Região in pivot_table.index.get_level_values(0).unique():\n",
    "#     Regiãoal_data = pivot_table.xs(Região, level='Região')\n",
    "#     Regiãoal_data.plot(kind='bar', figsize=(14, 7))\n",
    "#     plt.title(f'Valor Desembolsado por Setor CNAE e UF no {Região}')\n",
    "#     plt.ylabel('Valor Desembolsado em Reais')\n",
    "#     plt.xlabel('UF e Setor CNAE')\n",
    "#     plt.xticks(rotation=45)\n",
    "#     plt.legend(title='Setor CNAE', bbox_to_anchor=(1.05, 1), loc='upper left')\n",
    "#     plt.tight_layout()\n",
    "#     plt.show()\n"
   ]
  },
  {
   "cell_type": "markdown",
   "metadata": {},
   "source": [
    "## Valor desembolsado por setor CNAE - análise Regional (sem Indústria da Transformação)"
   ]
  },
  {
   "cell_type": "code",
   "execution_count": 11,
   "metadata": {},
   "outputs": [],
   "source": [
    "# pivot_table2 = pivot_table.drop('INDUSTRIA DE TRANSFORMAÇÃO', axis=1)\n",
    "# for Região in pivot_table2.index.get_level_values(0).unique():\n",
    "#     Regiãoal_data = pivot_table2.xs(Região, level='Região')\n",
    "#     Regiãoal_data.plot(kind='bar', figsize=(14, 7))\n",
    "#     plt.title(f'Valor Desembolsado por Setor CNAE e UF no {Região}')\n",
    "#     plt.ylabel('Valor Desembolsado em Reais')\n",
    "#     plt.xlabel('UF e Setor CNAE')\n",
    "#     plt.xticks(rotation=45)\n",
    "#     plt.legend(title='Setor CNAE', bbox_to_anchor=(1.05, 1), loc='upper left')\n",
    "#     plt.tight_layout()\n",
    "#     plt.show()\n"
   ]
  },
  {
   "cell_type": "markdown",
   "metadata": {
    "id": "qoX20SqyWdEe"
   },
   "source": [
    "##  Subsetor CNAE - Análise Regiãoal"
   ]
  },
  {
   "cell_type": "code",
   "execution_count": 12,
   "metadata": {
    "id": "fECL05HVWcY-"
   },
   "outputs": [],
   "source": [
    "grouped_data = df.groupby(['Região', 'UF', 'Subsetor CNAE Agrupado'])['Valor Desembolsado em Reais'].sum().reset_index()\n",
    "\n",
    "pivot_table = grouped_data.pivot_table(index=['Região', 'UF'], columns='Subsetor CNAE Agrupado', values='Valor Desembolsado em Reais', aggfunc='sum')\n"
   ]
  },
  {
   "cell_type": "code",
   "execution_count": 13,
   "metadata": {
    "colab": {
     "base_uri": "https://localhost:8080/",
     "height": 1000
    },
    "id": "0MzldOd5Wxn_",
    "outputId": "ba8c205f-7987-4e05-b74b-6b043948fadf"
   },
   "outputs": [],
   "source": [
    "# for Região in pivot_table.index.get_level_values(0).unique():\n",
    "#     Regiãoal_data = pivot_table.xs(Região, level='Região')\n",
    "#     Regiãoal_data.plot(kind='bar', figsize=(14, 7))\n",
    "#     plt.title(f'Valor Desembolsado por Subsetor CNAE Agrupado e UF no {Região}')\n",
    "#     plt.ylabel('Valor Desembolsado em Reais')\n",
    "#     plt.xlabel('UF e Subsetor CNAE Agrupado')\n",
    "#     plt.xticks(rotation=45)\n",
    "#     plt.legend(title='Subsetor CNAE Agrupado', bbox_to_anchor=(1.05, 1), loc='upper left')\n",
    "#     plt.tight_layout()\n",
    "#     plt.show()\n"
   ]
  },
  {
   "cell_type": "markdown",
   "metadata": {
    "id": "s795pn8LPcT1"
   },
   "source": [
    "## Distribuição categórica"
   ]
  },
  {
   "cell_type": "code",
   "execution_count": 14,
   "metadata": {
    "colab": {
     "base_uri": "https://localhost:8080/",
     "height": 430
    },
    "id": "e6XxXKC7PYQn",
    "outputId": "8d25de4b-10d1-4e57-daea-c0a0b6d743b0"
   },
   "outputs": [],
   "source": [
    "# from matplotlib import pyplot as plt\n",
    "# import seaborn as sns\n",
    "# df.groupby('Região').size().plot(kind='barh', color=sns.palettes.mpl_palette('Dark2'))\n",
    "# plt.gca().spines[['top', 'right',]].set_visible(False)"
   ]
  },
  {
   "cell_type": "code",
   "execution_count": 15,
   "metadata": {
    "colab": {
     "base_uri": "https://localhost:8080/",
     "height": 430
    },
    "id": "gDUhoqg_PTAI",
    "outputId": "a41360fd-e3c6-4068-d512-71cb3d1760fc"
   },
   "outputs": [],
   "source": [
    "# from matplotlib import pyplot as plt\n",
    "# import seaborn as sns\n",
    "# df.groupby('Porte do cliente').size().plot(kind='barh', color=sns.palettes.mpl_palette('Dark2'))\n",
    "# plt.gca().spines[['top', 'right',]].set_visible(False)"
   ]
  },
  {
   "cell_type": "code",
   "execution_count": 16,
   "metadata": {
    "colab": {
     "base_uri": "https://localhost:8080/",
     "height": 430
    },
    "id": "Goa_mNoKPQWb",
    "outputId": "9da551b9-00af-4aa5-f9d9-61f8d97373db"
   },
   "outputs": [],
   "source": [
    "# from matplotlib import pyplot as plt\n",
    "# import seaborn as sns\n",
    "# df.groupby('Setor CNAE').size().plot(kind='barh', color=sns.palettes.mpl_palette('Dark2'))\n",
    "# plt.gca().spines[['top', 'right',]].set_visible(False)"
   ]
  },
  {
   "cell_type": "markdown",
   "metadata": {
    "id": "SvN_tAzrQcUr"
   },
   "source": [
    "## Análise Temporal"
   ]
  },
  {
   "cell_type": "code",
   "execution_count": 17,
   "metadata": {
    "id": "fsA4HLRV8v_9"
   },
   "outputs": [],
   "source": [
    "df['Ano da Operação'] = pd.to_datetime(df['Ano da Operação'], format='%Y')"
   ]
  },
  {
   "cell_type": "code",
   "execution_count": 18,
   "metadata": {
    "colab": {
     "base_uri": "https://localhost:8080/",
     "height": 564
    },
    "id": "xPiW5rFTQbzS",
    "outputId": "9fb8208b-3b8e-43ad-a9b7-6fb6e0054bf1"
   },
   "outputs": [],
   "source": [
    "yearly_data = df.groupby(df['Ano da Operação'].dt.year)['Valor da Operação em R$'].sum()\n",
    "moving_average = yearly_data.rolling(window=3).mean()  \n",
    "\n",
    "# plt.figure(figsize=(12, 6))\n",
    "# plt.plot(yearly_data, marker='o', label='Investimento Anual')\n",
    "# plt.plot(moving_average, color='red', linestyle='--', label='Média Móvel em 3 anos')\n",
    "# plt.title('Valor anual desembolsado com média móvel')\n",
    "# plt.xlabel('Ano')\n",
    "# plt.ylabel('Valor desembolsado total (R$)')\n",
    "# plt.legend()\n",
    "# plt.grid(True)\n",
    "# plt.show()\n"
   ]
  },
  {
   "cell_type": "markdown",
   "metadata": {
    "id": "rkI6K95BSLvV"
   },
   "source": [
    "## Por setor"
   ]
  },
  {
   "cell_type": "code",
   "execution_count": 19,
   "metadata": {
    "colab": {
     "base_uri": "https://localhost:8080/",
     "height": 718
    },
    "id": "G2QUVkPMSNPW",
    "outputId": "0d171c67-8311-4b67-af70-ab44a5d1e496"
   },
   "outputs": [],
   "source": [
    "df['Year'] = pd.to_datetime(df['Ano da Operação'], format='%Y')\n",
    "\n",
    "df['Valor da Operação em R$'] = df['Valor da Operação em R$'].astype(float)\n",
    "sector_yearly_data = df.groupby([df['Year'].dt.year, 'Setor CNAE'])['Valor da Operação em R$'].sum().unstack()\n",
    "\n",
    "# plt.figure(figsize=(14, 8))\n",
    "# for column in sector_yearly_data.columns:\n",
    "#     plt.plot(sector_yearly_data.index, sector_yearly_data[column], marker='', linestyle='-', label=column)\n",
    "# plt.title('Valor anual por setor')\n",
    "# plt.xlabel('Ano')\n",
    "# plt.ylabel('Valor total (R$)')\n",
    "# plt.legend(title='Setor', loc='upper right')\n",
    "# plt.grid(True)\n",
    "# plt.show()\n"
   ]
  },
  {
   "cell_type": "code",
   "execution_count": 20,
   "metadata": {},
   "outputs": [
    {
     "data": {
      "image/png": "[encoded data removed]",
      "text/plain": [
       "<Figure size 1000x600 with 1 Axes>"
      ]
     },
     "metadata": {},
     "output_type": "display_data"
    }
   ],
   "source": [
    "import pandas as pd\n",
    "import matplotlib.pyplot as plt\n",
    "\n",
    "# Supondo que 'df' é o seu DataFrame\n",
    "\n",
    "# Convertendo a coluna de datas para o tipo datetime\n",
    "df['Ano da Operação'] = pd.to_datetime(df['Ano da Operação'])\n",
    "\n",
    "# Extraindo o ano da data\n",
    "df['Year'] = df['Ano da Operação'].dt.year\n",
    "\n",
    "# Agrupando os dados por ano e somando os valores desembolsados\n",
    "agrupado = df.groupby('Year')['Valor Desembolsado em Reais'].sum()\n",
    "\n",
    "# Criando o gráfico de barras\n",
    "plt.figure(figsize=(10, 6))\n",
    "agrupado.plot(kind='bar', color='gray', width= 0.7)\n",
    "\n",
    "# Adicionando título e rótulos\n",
    "plt.xlabel('Ano da Operação', fontsize = 12)\n",
    "plt.ylabel('Volume de Empréstimos (R$)', fontsize = 12)\n",
    "\n",
    "# Mostrando o gráfico\n",
    "plt.show()"
   ]
  },
  {
   "cell_type": "code",
   "execution_count": 25,
   "metadata": {},
   "outputs": [
    {
     "ename": "ValueError",
     "evalue": "'left' is not a valid value for loc; supported values are 'best', 'upper right', 'upper left', 'lower left', 'lower right', 'right', 'center left', 'center right', 'lower center', 'upper center', 'center'",
     "output_type": "error",
     "traceback": [
      "\u001b[0;31m---------------------------------------------------------------------------\u001b[0m",
      "\u001b[0;31mValueError\u001b[0m                                Traceback (most recent call last)",
      "Cell \u001b[0;32mIn[25], line 29\u001b[0m\n\u001b[1;32m     26\u001b[0m plt\u001b[38;5;241m.\u001b[39mylabel(\u001b[38;5;124m'\u001b[39m\u001b[38;5;124mVolume de Empréstimos (R$)\u001b[39m\u001b[38;5;124m'\u001b[39m, fontsize\u001b[38;5;241m=\u001b[39m\u001b[38;5;241m12\u001b[39m)\n\u001b[1;32m     28\u001b[0m \u001b[38;5;66;03m# Adicionando a legenda\u001b[39;00m\n\u001b[0;32m---> 29\u001b[0m \u001b[43mplt\u001b[49m\u001b[38;5;241;43m.\u001b[39;49m\u001b[43mlegend\u001b[49m\u001b[43m(\u001b[49m\u001b[43mtitle\u001b[49m\u001b[38;5;241;43m=\u001b[39;49m\u001b[38;5;124;43m'\u001b[39;49m\u001b[38;5;124;43mSetor CNAE\u001b[39;49m\u001b[38;5;124;43m'\u001b[39;49m\u001b[43m,\u001b[49m\u001b[43m \u001b[49m\u001b[43mbbox_to_anchor\u001b[49m\u001b[38;5;241;43m=\u001b[39;49m\u001b[43m(\u001b[49m\u001b[38;5;241;43m0.8\u001b[39;49m\u001b[43m,\u001b[49m\u001b[43m \u001b[49m\u001b[38;5;241;43m1\u001b[39;49m\u001b[43m)\u001b[49m\u001b[43m,\u001b[49m\u001b[43m \u001b[49m\u001b[43mloc\u001b[49m\u001b[38;5;241;43m=\u001b[39;49m\u001b[38;5;124;43m'\u001b[39;49m\u001b[38;5;124;43mleft\u001b[39;49m\u001b[38;5;124;43m'\u001b[39;49m\u001b[43m)\u001b[49m\n\u001b[1;32m     31\u001b[0m \u001b[38;5;66;03m# Mostrando o gráfico\u001b[39;00m\n\u001b[1;32m     32\u001b[0m plt\u001b[38;5;241m.\u001b[39mshow()\n",
      "File \u001b[0;32m/usr/lib64/python3.12/site-packages/matplotlib/pyplot.py:3384\u001b[0m, in \u001b[0;36mlegend\u001b[0;34m(*args, **kwargs)\u001b[0m\n\u001b[1;32m   3382\u001b[0m \u001b[38;5;129m@_copy_docstring_and_deprecators\u001b[39m(Axes\u001b[38;5;241m.\u001b[39mlegend)\n\u001b[1;32m   3383\u001b[0m \u001b[38;5;28;01mdef\u001b[39;00m \u001b[38;5;21mlegend\u001b[39m(\u001b[38;5;241m*\u001b[39margs, \u001b[38;5;241m*\u001b[39m\u001b[38;5;241m*\u001b[39mkwargs) \u001b[38;5;241m-\u001b[39m\u001b[38;5;241m>\u001b[39m Legend:\n\u001b[0;32m-> 3384\u001b[0m     \u001b[38;5;28;01mreturn\u001b[39;00m \u001b[43mgca\u001b[49m\u001b[43m(\u001b[49m\u001b[43m)\u001b[49m\u001b[38;5;241;43m.\u001b[39;49m\u001b[43mlegend\u001b[49m\u001b[43m(\u001b[49m\u001b[38;5;241;43m*\u001b[39;49m\u001b[43margs\u001b[49m\u001b[43m,\u001b[49m\u001b[43m \u001b[49m\u001b[38;5;241;43m*\u001b[39;49m\u001b[38;5;241;43m*\u001b[39;49m\u001b[43mkwargs\u001b[49m\u001b[43m)\u001b[49m\n",
      "File \u001b[0;32m/usr/lib64/python3.12/site-packages/matplotlib/axes/_axes.py:323\u001b[0m, in \u001b[0;36mAxes.legend\u001b[0;34m(self, *args, **kwargs)\u001b[0m\n\u001b[1;32m    206\u001b[0m \u001b[38;5;250m\u001b[39m\u001b[38;5;124;03m\"\"\"\u001b[39;00m\n\u001b[1;32m    207\u001b[0m \u001b[38;5;124;03mPlace a legend on the Axes.\u001b[39;00m\n\u001b[1;32m    208\u001b[0m \n\u001b[0;32m   (...)\u001b[0m\n\u001b[1;32m    320\u001b[0m \u001b[38;5;124;03m.. plot:: gallery/text_labels_and_annotations/legend.py\u001b[39;00m\n\u001b[1;32m    321\u001b[0m \u001b[38;5;124;03m\"\"\"\u001b[39;00m\n\u001b[1;32m    322\u001b[0m handles, labels, kwargs \u001b[38;5;241m=\u001b[39m mlegend\u001b[38;5;241m.\u001b[39m_parse_legend_args([\u001b[38;5;28mself\u001b[39m], \u001b[38;5;241m*\u001b[39margs, \u001b[38;5;241m*\u001b[39m\u001b[38;5;241m*\u001b[39mkwargs)\n\u001b[0;32m--> 323\u001b[0m \u001b[38;5;28mself\u001b[39m\u001b[38;5;241m.\u001b[39mlegend_ \u001b[38;5;241m=\u001b[39m \u001b[43mmlegend\u001b[49m\u001b[38;5;241;43m.\u001b[39;49m\u001b[43mLegend\u001b[49m\u001b[43m(\u001b[49m\u001b[38;5;28;43mself\u001b[39;49m\u001b[43m,\u001b[49m\u001b[43m \u001b[49m\u001b[43mhandles\u001b[49m\u001b[43m,\u001b[49m\u001b[43m \u001b[49m\u001b[43mlabels\u001b[49m\u001b[43m,\u001b[49m\u001b[43m \u001b[49m\u001b[38;5;241;43m*\u001b[39;49m\u001b[38;5;241;43m*\u001b[39;49m\u001b[43mkwargs\u001b[49m\u001b[43m)\u001b[49m\n\u001b[1;32m    324\u001b[0m \u001b[38;5;28mself\u001b[39m\u001b[38;5;241m.\u001b[39mlegend_\u001b[38;5;241m.\u001b[39m_remove_method \u001b[38;5;241m=\u001b[39m \u001b[38;5;28mself\u001b[39m\u001b[38;5;241m.\u001b[39m_remove_legend\n\u001b[1;32m    325\u001b[0m \u001b[38;5;28;01mreturn\u001b[39;00m \u001b[38;5;28mself\u001b[39m\u001b[38;5;241m.\u001b[39mlegend_\n",
      "File \u001b[0;32m/usr/lib64/python3.12/site-packages/matplotlib/legend.py:566\u001b[0m, in \u001b[0;36mLegend.__init__\u001b[0;34m(self, parent, handles, labels, loc, numpoints, markerscale, markerfirst, reverse, scatterpoints, scatteryoffsets, prop, fontsize, labelcolor, borderpad, labelspacing, handlelength, handleheight, handletextpad, borderaxespad, columnspacing, ncols, mode, fancybox, shadow, title, title_fontsize, framealpha, edgecolor, facecolor, bbox_to_anchor, bbox_transform, frameon, handler_map, title_fontproperties, alignment, ncol, draggable)\u001b[0m\n\u001b[1;32m    563\u001b[0m \u001b[38;5;28mself\u001b[39m\u001b[38;5;241m.\u001b[39m_init_legend_box(handles, labels, markerfirst)\n\u001b[1;32m    565\u001b[0m \u001b[38;5;66;03m# Set legend location\u001b[39;00m\n\u001b[0;32m--> 566\u001b[0m \u001b[38;5;28;43mself\u001b[39;49m\u001b[38;5;241;43m.\u001b[39;49m\u001b[43mset_loc\u001b[49m\u001b[43m(\u001b[49m\u001b[43mloc\u001b[49m\u001b[43m)\u001b[49m\n\u001b[1;32m    568\u001b[0m \u001b[38;5;66;03m# figure out title font properties:\u001b[39;00m\n\u001b[1;32m    569\u001b[0m \u001b[38;5;28;01mif\u001b[39;00m title_fontsize \u001b[38;5;129;01mis\u001b[39;00m \u001b[38;5;129;01mnot\u001b[39;00m \u001b[38;5;28;01mNone\u001b[39;00m \u001b[38;5;129;01mand\u001b[39;00m title_fontproperties \u001b[38;5;129;01mis\u001b[39;00m \u001b[38;5;129;01mnot\u001b[39;00m \u001b[38;5;28;01mNone\u001b[39;00m:\n",
      "File \u001b[0;32m/usr/lib64/python3.12/site-packages/matplotlib/legend.py:687\u001b[0m, in \u001b[0;36mLegend.set_loc\u001b[0;34m(self, loc)\u001b[0m\n\u001b[1;32m    685\u001b[0m             loc \u001b[38;5;241m=\u001b[39m locs[\u001b[38;5;241m0\u001b[39m] \u001b[38;5;241m+\u001b[39m \u001b[38;5;124m'\u001b[39m\u001b[38;5;124m \u001b[39m\u001b[38;5;124m'\u001b[39m \u001b[38;5;241m+\u001b[39m locs[\u001b[38;5;241m1\u001b[39m]\n\u001b[1;32m    686\u001b[0m     \u001b[38;5;66;03m# check that loc is in acceptable strings\u001b[39;00m\n\u001b[0;32m--> 687\u001b[0m     loc \u001b[38;5;241m=\u001b[39m \u001b[43m_api\u001b[49m\u001b[38;5;241;43m.\u001b[39;49m\u001b[43mcheck_getitem\u001b[49m\u001b[43m(\u001b[49m\u001b[38;5;28;43mself\u001b[39;49m\u001b[38;5;241;43m.\u001b[39;49m\u001b[43mcodes\u001b[49m\u001b[43m,\u001b[49m\u001b[43m \u001b[49m\u001b[43mloc\u001b[49m\u001b[38;5;241;43m=\u001b[39;49m\u001b[43mloc\u001b[49m\u001b[43m)\u001b[49m\n\u001b[1;32m    688\u001b[0m \u001b[38;5;28;01melif\u001b[39;00m np\u001b[38;5;241m.\u001b[39miterable(loc):\n\u001b[1;32m    689\u001b[0m     \u001b[38;5;66;03m# coerce iterable into tuple\u001b[39;00m\n\u001b[1;32m    690\u001b[0m     loc \u001b[38;5;241m=\u001b[39m \u001b[38;5;28mtuple\u001b[39m(loc)\n",
      "File \u001b[0;32m/usr/lib64/python3.12/site-packages/matplotlib/_api/__init__.py:183\u001b[0m, in \u001b[0;36mcheck_getitem\u001b[0;34m(mapping, **kwargs)\u001b[0m\n\u001b[1;32m    181\u001b[0m     \u001b[38;5;28;01mreturn\u001b[39;00m mapping[v]\n\u001b[1;32m    182\u001b[0m \u001b[38;5;28;01mexcept\u001b[39;00m \u001b[38;5;167;01mKeyError\u001b[39;00m:\n\u001b[0;32m--> 183\u001b[0m     \u001b[38;5;28;01mraise\u001b[39;00m \u001b[38;5;167;01mValueError\u001b[39;00m(\n\u001b[1;32m    184\u001b[0m         \u001b[38;5;124mf\u001b[39m\u001b[38;5;124m\"\u001b[39m\u001b[38;5;132;01m{\u001b[39;00mv\u001b[38;5;132;01m!r}\u001b[39;00m\u001b[38;5;124m is not a valid value for \u001b[39m\u001b[38;5;132;01m{\u001b[39;00mk\u001b[38;5;132;01m}\u001b[39;00m\u001b[38;5;124m; supported values are \u001b[39m\u001b[38;5;124m\"\u001b[39m\n\u001b[1;32m    185\u001b[0m         \u001b[38;5;124mf\u001b[39m\u001b[38;5;124m\"\u001b[39m\u001b[38;5;132;01m{\u001b[39;00m\u001b[38;5;124m'\u001b[39m\u001b[38;5;124m, \u001b[39m\u001b[38;5;124m'\u001b[39m\u001b[38;5;241m.\u001b[39mjoin(\u001b[38;5;28mmap\u001b[39m(\u001b[38;5;28mrepr\u001b[39m,\u001b[38;5;250m \u001b[39mmapping))\u001b[38;5;132;01m}\u001b[39;00m\u001b[38;5;124m\"\u001b[39m) \u001b[38;5;28;01mfrom\u001b[39;00m \u001b[38;5;28;01mNone\u001b[39;00m\n",
      "\u001b[0;31mValueError\u001b[0m: 'left' is not a valid value for loc; supported values are 'best', 'upper right', 'upper left', 'lower left', 'lower right', 'right', 'center left', 'center right', 'lower center', 'upper center', 'center'"
     ]
    },
    {
     "data": {
      "image/png": "[encoded data removed]",
      "text/plain": [
       "<Figure size 1000x600 with 1 Axes>"
      ]
     },
     "metadata": {},
     "output_type": "display_data"
    }
   ],
   "source": [
    "import pandas as pd\n",
    "import matplotlib.pyplot as plt\n",
    "import numpy as np\n",
    "\n",
    "# Supondo que 'df' é o seu DataFrame\n",
    "\n",
    "# Convertendo a coluna de datas para o tipo datetime\n",
    "df['Ano da Operação'] = pd.to_datetime(df['Ano da Operação'])\n",
    "\n",
    "# Extraindo o ano da data\n",
    "df['Year'] = df['Ano da Operação'].dt.year\n",
    "\n",
    "# Agrupando os dados por ano e setor CNAE, e somando os valores desembolsados\n",
    "agrupado = df.groupby(['Year', 'Setor CNAE'])['Valor Desembolsado em Reais'].sum().unstack(fill_value=0)\n",
    "\n",
    "# Preparando as cores em escala de cinza\n",
    "num_setores = len(agrupado.columns)\n",
    "cores = [str(0.8 - i*(0.8/num_setores)) for i in range(num_setores)]\n",
    "\n",
    "# Criando o gráfico de barras agrupadas\n",
    "fig, ax = plt.subplots(figsize=(10, 6))\n",
    "agrupado.plot(kind='bar', stacked=False, color=cores, ax=ax, width=0.8)\n",
    "\n",
    "# Adicionando título e rótulos com tamanhos específicos\n",
    "plt.xlabel('Ano da Operação', fontsize=12)\n",
    "plt.ylabel('Volume de Empréstimos (R$)', fontsize=12)\n",
    "\n",
    "# Adicionando a legenda\n",
    "plt.legend(title='Setor CNAE', bbox_to_anchor=(0.8, 1), loc='left')\n",
    "\n",
    "# Mostrando o gráfico\n",
    "plt.show()\n"
   ]
  },
  {
   "cell_type": "code",
   "execution_count": 27,
   "metadata": {},
   "outputs": [
    {
     "ename": "ValueError",
     "evalue": "' left' is not a valid value for loc; supported values are 'best', 'upper right', 'upper left', 'lower left', 'lower right', 'right', 'center left', 'center right', 'lower center', 'upper center', 'center'",
     "output_type": "error",
     "traceback": [
      "\u001b[0;31m---------------------------------------------------------------------------\u001b[0m",
      "\u001b[0;31mValueError\u001b[0m                                Traceback (most recent call last)",
      "Cell \u001b[0;32mIn[27], line 29\u001b[0m\n\u001b[1;32m     26\u001b[0m plt\u001b[38;5;241m.\u001b[39mylabel(\u001b[38;5;124m'\u001b[39m\u001b[38;5;124mVolume de Empréstimos (R$)\u001b[39m\u001b[38;5;124m'\u001b[39m, fontsize\u001b[38;5;241m=\u001b[39m\u001b[38;5;241m12\u001b[39m)\n\u001b[1;32m     28\u001b[0m \u001b[38;5;66;03m# Adicionando a legenda\u001b[39;00m\n\u001b[0;32m---> 29\u001b[0m \u001b[43mplt\u001b[49m\u001b[38;5;241;43m.\u001b[39;49m\u001b[43mlegend\u001b[49m\u001b[43m(\u001b[49m\u001b[43mtitle\u001b[49m\u001b[38;5;241;43m=\u001b[39;49m\u001b[38;5;124;43m'\u001b[39;49m\u001b[38;5;124;43mPorte do Cliente\u001b[39;49m\u001b[38;5;124;43m'\u001b[39;49m\u001b[43m,\u001b[49m\u001b[43m \u001b[49m\u001b[43mbbox_to_anchor\u001b[49m\u001b[38;5;241;43m=\u001b[39;49m\u001b[43m(\u001b[49m\u001b[38;5;241;43m1.05\u001b[39;49m\u001b[43m,\u001b[49m\u001b[43m \u001b[49m\u001b[38;5;241;43m1\u001b[39;49m\u001b[43m)\u001b[49m\u001b[43m,\u001b[49m\u001b[43m \u001b[49m\u001b[43mloc\u001b[49m\u001b[38;5;241;43m=\u001b[39;49m\u001b[38;5;124;43m'\u001b[39;49m\u001b[38;5;124;43m left\u001b[39;49m\u001b[38;5;124;43m'\u001b[39;49m\u001b[43m)\u001b[49m\n\u001b[1;32m     31\u001b[0m \u001b[38;5;66;03m# Mostrando o gráfico\u001b[39;00m\n\u001b[1;32m     32\u001b[0m plt\u001b[38;5;241m.\u001b[39mshow()\n",
      "File \u001b[0;32m/usr/lib64/python3.12/site-packages/matplotlib/pyplot.py:3384\u001b[0m, in \u001b[0;36mlegend\u001b[0;34m(*args, **kwargs)\u001b[0m\n\u001b[1;32m   3382\u001b[0m \u001b[38;5;129m@_copy_docstring_and_deprecators\u001b[39m(Axes\u001b[38;5;241m.\u001b[39mlegend)\n\u001b[1;32m   3383\u001b[0m \u001b[38;5;28;01mdef\u001b[39;00m \u001b[38;5;21mlegend\u001b[39m(\u001b[38;5;241m*\u001b[39margs, \u001b[38;5;241m*\u001b[39m\u001b[38;5;241m*\u001b[39mkwargs) \u001b[38;5;241m-\u001b[39m\u001b[38;5;241m>\u001b[39m Legend:\n\u001b[0;32m-> 3384\u001b[0m     \u001b[38;5;28;01mreturn\u001b[39;00m \u001b[43mgca\u001b[49m\u001b[43m(\u001b[49m\u001b[43m)\u001b[49m\u001b[38;5;241;43m.\u001b[39;49m\u001b[43mlegend\u001b[49m\u001b[43m(\u001b[49m\u001b[38;5;241;43m*\u001b[39;49m\u001b[43margs\u001b[49m\u001b[43m,\u001b[49m\u001b[43m \u001b[49m\u001b[38;5;241;43m*\u001b[39;49m\u001b[38;5;241;43m*\u001b[39;49m\u001b[43mkwargs\u001b[49m\u001b[43m)\u001b[49m\n",
      "File \u001b[0;32m/usr/lib64/python3.12/site-packages/matplotlib/axes/_axes.py:323\u001b[0m, in \u001b[0;36mAxes.legend\u001b[0;34m(self, *args, **kwargs)\u001b[0m\n\u001b[1;32m    206\u001b[0m \u001b[38;5;250m\u001b[39m\u001b[38;5;124;03m\"\"\"\u001b[39;00m\n\u001b[1;32m    207\u001b[0m \u001b[38;5;124;03mPlace a legend on the Axes.\u001b[39;00m\n\u001b[1;32m    208\u001b[0m \n\u001b[0;32m   (...)\u001b[0m\n\u001b[1;32m    320\u001b[0m \u001b[38;5;124;03m.. plot:: gallery/text_labels_and_annotations/legend.py\u001b[39;00m\n\u001b[1;32m    321\u001b[0m \u001b[38;5;124;03m\"\"\"\u001b[39;00m\n\u001b[1;32m    322\u001b[0m handles, labels, kwargs \u001b[38;5;241m=\u001b[39m mlegend\u001b[38;5;241m.\u001b[39m_parse_legend_args([\u001b[38;5;28mself\u001b[39m], \u001b[38;5;241m*\u001b[39margs, \u001b[38;5;241m*\u001b[39m\u001b[38;5;241m*\u001b[39mkwargs)\n\u001b[0;32m--> 323\u001b[0m \u001b[38;5;28mself\u001b[39m\u001b[38;5;241m.\u001b[39mlegend_ \u001b[38;5;241m=\u001b[39m \u001b[43mmlegend\u001b[49m\u001b[38;5;241;43m.\u001b[39;49m\u001b[43mLegend\u001b[49m\u001b[43m(\u001b[49m\u001b[38;5;28;43mself\u001b[39;49m\u001b[43m,\u001b[49m\u001b[43m \u001b[49m\u001b[43mhandles\u001b[49m\u001b[43m,\u001b[49m\u001b[43m \u001b[49m\u001b[43mlabels\u001b[49m\u001b[43m,\u001b[49m\u001b[43m \u001b[49m\u001b[38;5;241;43m*\u001b[39;49m\u001b[38;5;241;43m*\u001b[39;49m\u001b[43mkwargs\u001b[49m\u001b[43m)\u001b[49m\n\u001b[1;32m    324\u001b[0m \u001b[38;5;28mself\u001b[39m\u001b[38;5;241m.\u001b[39mlegend_\u001b[38;5;241m.\u001b[39m_remove_method \u001b[38;5;241m=\u001b[39m \u001b[38;5;28mself\u001b[39m\u001b[38;5;241m.\u001b[39m_remove_legend\n\u001b[1;32m    325\u001b[0m \u001b[38;5;28;01mreturn\u001b[39;00m \u001b[38;5;28mself\u001b[39m\u001b[38;5;241m.\u001b[39mlegend_\n",
      "File \u001b[0;32m/usr/lib64/python3.12/site-packages/matplotlib/legend.py:566\u001b[0m, in \u001b[0;36mLegend.__init__\u001b[0;34m(self, parent, handles, labels, loc, numpoints, markerscale, markerfirst, reverse, scatterpoints, scatteryoffsets, prop, fontsize, labelcolor, borderpad, labelspacing, handlelength, handleheight, handletextpad, borderaxespad, columnspacing, ncols, mode, fancybox, shadow, title, title_fontsize, framealpha, edgecolor, facecolor, bbox_to_anchor, bbox_transform, frameon, handler_map, title_fontproperties, alignment, ncol, draggable)\u001b[0m\n\u001b[1;32m    563\u001b[0m \u001b[38;5;28mself\u001b[39m\u001b[38;5;241m.\u001b[39m_init_legend_box(handles, labels, markerfirst)\n\u001b[1;32m    565\u001b[0m \u001b[38;5;66;03m# Set legend location\u001b[39;00m\n\u001b[0;32m--> 566\u001b[0m \u001b[38;5;28;43mself\u001b[39;49m\u001b[38;5;241;43m.\u001b[39;49m\u001b[43mset_loc\u001b[49m\u001b[43m(\u001b[49m\u001b[43mloc\u001b[49m\u001b[43m)\u001b[49m\n\u001b[1;32m    568\u001b[0m \u001b[38;5;66;03m# figure out title font properties:\u001b[39;00m\n\u001b[1;32m    569\u001b[0m \u001b[38;5;28;01mif\u001b[39;00m title_fontsize \u001b[38;5;129;01mis\u001b[39;00m \u001b[38;5;129;01mnot\u001b[39;00m \u001b[38;5;28;01mNone\u001b[39;00m \u001b[38;5;129;01mand\u001b[39;00m title_fontproperties \u001b[38;5;129;01mis\u001b[39;00m \u001b[38;5;129;01mnot\u001b[39;00m \u001b[38;5;28;01mNone\u001b[39;00m:\n",
      "File \u001b[0;32m/usr/lib64/python3.12/site-packages/matplotlib/legend.py:687\u001b[0m, in \u001b[0;36mLegend.set_loc\u001b[0;34m(self, loc)\u001b[0m\n\u001b[1;32m    685\u001b[0m             loc \u001b[38;5;241m=\u001b[39m locs[\u001b[38;5;241m0\u001b[39m] \u001b[38;5;241m+\u001b[39m \u001b[38;5;124m'\u001b[39m\u001b[38;5;124m \u001b[39m\u001b[38;5;124m'\u001b[39m \u001b[38;5;241m+\u001b[39m locs[\u001b[38;5;241m1\u001b[39m]\n\u001b[1;32m    686\u001b[0m     \u001b[38;5;66;03m# check that loc is in acceptable strings\u001b[39;00m\n\u001b[0;32m--> 687\u001b[0m     loc \u001b[38;5;241m=\u001b[39m \u001b[43m_api\u001b[49m\u001b[38;5;241;43m.\u001b[39;49m\u001b[43mcheck_getitem\u001b[49m\u001b[43m(\u001b[49m\u001b[38;5;28;43mself\u001b[39;49m\u001b[38;5;241;43m.\u001b[39;49m\u001b[43mcodes\u001b[49m\u001b[43m,\u001b[49m\u001b[43m \u001b[49m\u001b[43mloc\u001b[49m\u001b[38;5;241;43m=\u001b[39;49m\u001b[43mloc\u001b[49m\u001b[43m)\u001b[49m\n\u001b[1;32m    688\u001b[0m \u001b[38;5;28;01melif\u001b[39;00m np\u001b[38;5;241m.\u001b[39miterable(loc):\n\u001b[1;32m    689\u001b[0m     \u001b[38;5;66;03m# coerce iterable into tuple\u001b[39;00m\n\u001b[1;32m    690\u001b[0m     loc \u001b[38;5;241m=\u001b[39m \u001b[38;5;28mtuple\u001b[39m(loc)\n",
      "File \u001b[0;32m/usr/lib64/python3.12/site-packages/matplotlib/_api/__init__.py:183\u001b[0m, in \u001b[0;36mcheck_getitem\u001b[0;34m(mapping, **kwargs)\u001b[0m\n\u001b[1;32m    181\u001b[0m     \u001b[38;5;28;01mreturn\u001b[39;00m mapping[v]\n\u001b[1;32m    182\u001b[0m \u001b[38;5;28;01mexcept\u001b[39;00m \u001b[38;5;167;01mKeyError\u001b[39;00m:\n\u001b[0;32m--> 183\u001b[0m     \u001b[38;5;28;01mraise\u001b[39;00m \u001b[38;5;167;01mValueError\u001b[39;00m(\n\u001b[1;32m    184\u001b[0m         \u001b[38;5;124mf\u001b[39m\u001b[38;5;124m\"\u001b[39m\u001b[38;5;132;01m{\u001b[39;00mv\u001b[38;5;132;01m!r}\u001b[39;00m\u001b[38;5;124m is not a valid value for \u001b[39m\u001b[38;5;132;01m{\u001b[39;00mk\u001b[38;5;132;01m}\u001b[39;00m\u001b[38;5;124m; supported values are \u001b[39m\u001b[38;5;124m\"\u001b[39m\n\u001b[1;32m    185\u001b[0m         \u001b[38;5;124mf\u001b[39m\u001b[38;5;124m\"\u001b[39m\u001b[38;5;132;01m{\u001b[39;00m\u001b[38;5;124m'\u001b[39m\u001b[38;5;124m, \u001b[39m\u001b[38;5;124m'\u001b[39m\u001b[38;5;241m.\u001b[39mjoin(\u001b[38;5;28mmap\u001b[39m(\u001b[38;5;28mrepr\u001b[39m,\u001b[38;5;250m \u001b[39mmapping))\u001b[38;5;132;01m}\u001b[39;00m\u001b[38;5;124m\"\u001b[39m) \u001b[38;5;28;01mfrom\u001b[39;00m \u001b[38;5;28;01mNone\u001b[39;00m\n",
      "\u001b[0;31mValueError\u001b[0m: ' left' is not a valid value for loc; supported values are 'best', 'upper right', 'upper left', 'lower left', 'lower right', 'right', 'center left', 'center right', 'lower center', 'upper center', 'center'"
     ]
    },
    {
     "data": {
      "image/png": "[encoded data removed]",
      "text/plain": [
       "<Figure size 1000x600 with 1 Axes>"
      ]
     },
     "metadata": {},
     "output_type": "display_data"
    }
   ],
   "source": [
    "import pandas as pd\n",
    "import matplotlib.pyplot as plt\n",
    "import numpy as np\n",
    "\n",
    "# Supondo que 'df' é o seu DataFrame\n",
    "\n",
    "# Convertendo a coluna de datas para o tipo datetime\n",
    "df['Ano da Operação'] = pd.to_datetime(df['Ano da Operação'])\n",
    "\n",
    "# Extraindo o ano da data\n",
    "df['Year'] = df['Ano da Operação'].dt.year\n",
    "\n",
    "# Agrupando os dados por ano e setor CNAE, e somando os valores desembolsados\n",
    "agrupado = df.groupby(['Year', 'Porte do cliente'])['Valor Desembolsado em Reais'].sum().unstack(fill_value=0)\n",
    "\n",
    "# Preparando as cores em escala de cinza\n",
    "num_setores = len(agrupado.columns)\n",
    "cores = [str(0.8 - i*(0.8/num_setores)) for i in range(num_setores)]\n",
    "\n",
    "# Criando o gráfico de barras agrupadas\n",
    "fig, ax = plt.subplots(figsize=(10, 6))\n",
    "agrupado.plot(kind='bar', stacked=False, color=cores, ax=ax, width=0.8)\n",
    "\n",
    "# Adicionando título e rótulos com tamanhos específicos\n",
    "plt.xlabel('Ano da Operação', fontsize=12)\n",
    "plt.ylabel('Volume de Empréstimos (R$)', fontsize=12)\n",
    "\n",
    "# Adicionando a legenda\n",
    "plt.legend(title='Porte do Cliente', bbox_to_anchor=(1.05, 1), loc=' left')\n",
    "\n",
    "# Mostrando o gráfico\n",
    "plt.show()\n"
   ]
  },
  {
   "cell_type": "markdown",
   "metadata": {},
   "source": [
    "## Codificando colunas categóricas para análise de regressão"
   ]
  },
  {
   "cell_type": "code",
   "execution_count": 23,
   "metadata": {},
   "outputs": [],
   "source": [
    "# from sklearn.preprocessing import LabelEncoder\n",
    "# label_encoder = LabelEncoder()\n",
    "# categorical_vars = ['Cliente', 'UF', 'Ano da Operação', 'Setor CNAE', 'Subsetor CNAE Agrupado', 'Porte do cliente', 'Natureza', 'Instituição Financeira Credenciada', 'Região']\n",
    "# for col in categorical_vars:\n",
    "#     df[col] = label_encoder.fit_transform(df[col])"
   ]
  },
  {
   "cell_type": "code",
   "execution_count": 24,
   "metadata": {},
   "outputs": [],
   "source": [
    "# X = df.drop(columns = ['Cliente', 'Ano da Operação', 'Valor Desembolsado em Reais','Valor da Operação em R$', 'Year'], axis=1)"
   ]
  },
  {
   "cell_type": "code",
   "execution_count": 25,
   "metadata": {},
   "outputs": [],
   "source": [
    "# df = df.drop(columns = ['Valor da Operação em R$', 'Year'], axis = 1)"
   ]
  },
  {
   "cell_type": "code",
   "execution_count": 26,
   "metadata": {},
   "outputs": [],
   "source": [
    "df_dummy = df.drop(columns=['Valor Desembolsado em Reais', 'Subsetor CNAE Agrupado', 'Ano da Operação', 'Instituição Financeira Credenciada', 'Região', 'Year', 'Valor da Operação em R$'])\n",
    "df_dummy = pd.get_dummies(df_dummy, drop_first=True)"
   ]
  },
  {
   "cell_type": "markdown",
   "metadata": {},
   "source": [
    "## Regressão multivariada"
   ]
  },
  {
   "cell_type": "code",
   "execution_count": 27,
   "metadata": {},
   "outputs": [],
   "source": [
    "import statsmodels.api as sm\n",
    "import matplotlib.pyplot as plt\n",
    "import seaborn as sns\n",
    "\n",
    "# Definindo a variável dependente\n",
    "dependent_var = df['Valor Desembolsado em Reais']"
   ]
  },
  {
   "cell_type": "code",
   "execution_count": 28,
   "metadata": {},
   "outputs": [],
   "source": [
    "# # Criando o modelo de regressão OLS\n",
    "# model = sm.OLS(dependent_var, df_dummy)\n",
    "\n",
    "# # Ajustando o modelo\n",
    "# results = model.fit()\n",
    "\n",
    "# # Exibindo o resumo dos resultados\n",
    "# # results.summary()\n",
    "# # Convert summary tables to DataFrame\n",
    "\n",
    "# tables = results.summary().tables\n",
    "# dataframes = [pd.DataFrame(table[1:], columns=table[0]) for table in tables]\n",
    "\n",
    "# csv_path = 'Reg.csv'\n",
    "\n",
    "# with open(csv_path, 'w') as f:\n",
    "#     for i, df in enumerate(dataframes):\n",
    "#         f.write(f\"\\nTable {i + 1}: {results.summary().extra_txt[i].strip()}\\n\")\n",
    "        \n",
    "#         df.to_csv(f, index=False)\n",
    "\n",
    "#         f.write('\\n')\n",
    "\n"
   ]
  },
  {
   "cell_type": "markdown",
   "metadata": {},
   "source": [
    "## Logarítmica multivariada"
   ]
  },
  {
   "cell_type": "code",
   "execution_count": 29,
   "metadata": {},
   "outputs": [],
   "source": [
    "# # Transformando a variável dependente em logaritmo\n",
    "# dependent_var_log = np.log(df['Valor Desembolsado em Reais'] + 1)  # +1 para evitar log de zero\n",
    "\n",
    "\n",
    "# # Criando o modelo de regressão OLS com a variável dependente transformada\n",
    "# model_log = sm.OLS(dependent_var_log, df_dummy)\n",
    "\n",
    "# # Ajustando o modelo\n",
    "# results_log = model_log.fit()\n",
    "\n",
    "# # Exibindo o resumo dos resultados\n",
    "# # results_log.summary()\n",
    "# tables = results_log.summary().tables\n",
    "# dataframes = [pd.DataFrame(table[1:], columns=table[0]) for table in tables]\n",
    "\n",
    "# csv_path = 'logReg.csv'\n",
    "\n",
    "# with open(csv_path, 'w') as f:\n",
    "#     for i, df in enumerate(dataframes):\n",
    "#         f.write(f\"\\nTable {i + 1}: {results.summary().extra_txt[i].strip()}\\n\")\n",
    "        \n",
    "#         df.to_csv(f, index=False)\n",
    "\n",
    "#         f.write('\\n')\n",
    "\n"
   ]
  },
  {
   "cell_type": "markdown",
   "metadata": {},
   "source": [
    "Interpretação: A interpretação dos coeficientes em uma regressão logarítmica muda. Um coeficiente agora representa a mudança percentual na variável dependente esperada para uma mudança de uma unidade na variável independente, mantendo as outras constantes."
   ]
  }
 ],
 "metadata": {
  "colab": {
   "provenance": []
  },
  "kernelspec": {
   "display_name": "Python 3 (ipykernel)",
   "language": "python",
   "name": "python3"
  },
  "language_info": {
   "codemirror_mode": {
    "name": "ipython",
    "version": 3
   },
   "file_extension": ".py",
   "mimetype": "text/x-python",
   "name": "python",
   "nbconvert_exporter": "python",
   "pygments_lexer": "ipython3",
   "version": "3.12.3"
  }
 },
 "nbformat": 4,
 "nbformat_minor": 4
}
